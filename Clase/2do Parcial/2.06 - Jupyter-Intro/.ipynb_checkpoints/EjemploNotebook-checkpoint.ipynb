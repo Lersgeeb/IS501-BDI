{
 "cells": [
  {
   "cell_type": "markdown",
   "metadata": {},
   "source": [
    "@author geescobar@unah.hn\n",
    "@date 2020/11/27\n",
    "@version 0.1\n",
    "\n",
    "Generar datos de insersión para MySQL/MariaDB\n",
    "======\n",
    "\n",
    "Objetivo\n",
    "-----\n",
    "\n",
    "-  Generar datos de inserción para la base de datos, que permitan automatizar el completado universo de datos de una tabla mediante comandos parametrizados.\n",
    "\n",
    "- Hacer uso de **Jupyter Notebooks** para documentar el desarrollo y hacer la presentación de clase.\n",
    "\n",
    "- Hacer uso de Python para crear las Clases y Métodos necesarios para el cumplimiento del objetivo.\n"
   ]
  },
  {
   "cell_type": "code",
   "execution_count": 10,
   "metadata": {},
   "outputs": [
    {
     "name": "stdout",
     "output_type": "stream",
     "text": [
      "Se han importado las librerías Built-in.\n"
     ]
    }
   ],
   "source": [
    "import random, re\n",
    "from datetime import datetime, timedelta\n",
    "\n",
    "print(\"Se han importado las librerías Built-in.\")"
   ]
  },
  {
   "cell_type": "code",
   "execution_count": 61,
   "metadata": {},
   "outputs": [],
   "source": [
    "class DataGenerator:\n",
    "    def __init__(self,fileName, defFilename):\n",
    "        self.fileName = fileName\n",
    "        self.defFilename = defFilename\n",
    "\n",
    "    def generate(self,days):\n",
    "        \n",
    "        f = open(self.defFilename,\"r\")\n",
    "        dbDefinition = f.read()\n",
    "        f.close()\n",
    "        \n",
    "        f = open(self.fileName, \"w\")\n",
    "        f.write(dbDefinition )\n",
    "        f.close()\n",
    "        \n",
    "        f = open(self.fileName,\"a\")\n",
    "        f.write(\"\"\"\\n\\nINSERT INTO Measure\\n    (device, temperature, date) VAlUES\\n\"\"\")\n",
    "        \n",
    "        for i in range(days):\n",
    "            f.write(\"\"\"    (%d, %.2f, '%s')\"\"\" % (\n",
    "                    int(random.random()*(4-1)+1),\n",
    "                    (random.random()*(39-36)+36),\n",
    "                    datetime.now() + timedelta(days=i)\n",
    "                )\n",
    "            )\n",
    "            \n",
    "            if(i<days-1):\n",
    "                f.write(',\\n')\n",
    "                \n",
    "        f.write(\"\\n;\")\n",
    "        f.close()"
   ]
  },
  {
   "cell_type": "code",
   "execution_count": 62,
   "metadata": {},
   "outputs": [],
   "source": [
    "(DataGenerator(fileName=\"data.sql\", defFilename = \"DDS.sql\")).generate(365*10)"
   ]
  },
  {
   "cell_type": "code",
   "execution_count": null,
   "metadata": {},
   "outputs": [],
   "source": []
  }
 ],
 "metadata": {
  "kernelspec": {
   "display_name": "Python 3",
   "language": "python",
   "name": "python3"
  },
  "language_info": {
   "codemirror_mode": {
    "name": "ipython",
    "version": 3
   },
   "file_extension": ".py",
   "mimetype": "text/x-python",
   "name": "python",
   "nbconvert_exporter": "python",
   "pygments_lexer": "ipython3",
   "version": "3.7.3"
  }
 },
 "nbformat": 4,
 "nbformat_minor": 2
}
